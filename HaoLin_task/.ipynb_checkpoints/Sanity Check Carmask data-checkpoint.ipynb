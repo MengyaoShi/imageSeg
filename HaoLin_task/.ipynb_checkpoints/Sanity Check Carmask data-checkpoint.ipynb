{
 "cells": [
  {
   "cell_type": "code",
   "execution_count": 1,
   "metadata": {
    "collapsed": true
   },
   "outputs": [],
   "source": [
    "from carvana_dataset import CarvanaDataset\n",
    "from h5like_interface import H5LikeFileInterface\n",
    "import torch\n",
    "from torch.utils import data\n",
    "\n",
    "from torchvision import transforms as tsf"
   ]
  },
  {
   "cell_type": "code",
   "execution_count": 7,
   "metadata": {},
   "outputs": [],
   "source": [
    "root = \"../../CarMask_bounding/input\"\n",
    "s_trans = tsf.Compose([\n",
    "#    tsf.ToPILImage(),\n",
    "#    tsf.Resize((128,128)),\n",
    "    tsf.ToTensor(),\n",
    "    tsf.Normalize(mean = [0.5,0.5,0.5],std = [0.5,0.5,0.5])\n",
    "]\n",
    ")\n",
    "\n",
    "ds = CarvanaDataset(root,1024,1024,s_trans,image_folder_name=\"train\",apply_clahe=True)"
   ]
  },
  {
   "cell_type": "code",
   "execution_count": 8,
   "metadata": {
    "collapsed": true
   },
   "outputs": [],
   "source": [
    "trainloader = torch.utils.data.DataLoader(ds, batch_size=4,\n",
    "                                          shuffle=True, num_workers=2)"
   ]
  },
  {
   "cell_type": "code",
   "execution_count": 10,
   "metadata": {},
   "outputs": [
    {
     "name": "stdout",
     "output_type": "stream",
     "text": [
      "torch.Size([4, 3, 1024, 1024])\n",
      "torch.Size([4, 1024, 1024])\n"
     ]
    }
   ],
   "source": [
    "i = 1\n",
    "for img_mask in trainloader:\n",
    "    img,mask = img_mask\n",
    "    print(img.size())\n",
    "    print(mask.size())\n",
    "    i += 1\n",
    "    if i == 2:\n",
    "        break"
   ]
  },
  {
   "cell_type": "code",
   "execution_count": 14,
   "metadata": {
    "collapsed": true
   },
   "outputs": [],
   "source": [
    "from scipy.misc import imshow\n",
    "imshow(mask*250)"
   ]
  }
 ],
 "metadata": {
  "kernelspec": {
   "display_name": "Python 3",
   "language": "python",
   "name": "python3"
  },
  "language_info": {
   "codemirror_mode": {
    "name": "ipython",
    "version": 3
   },
   "file_extension": ".py",
   "mimetype": "text/x-python",
   "name": "python",
   "nbconvert_exporter": "python",
   "pygments_lexer": "ipython3",
   "version": "3.6.1"
  }
 },
 "nbformat": 4,
 "nbformat_minor": 2
}
