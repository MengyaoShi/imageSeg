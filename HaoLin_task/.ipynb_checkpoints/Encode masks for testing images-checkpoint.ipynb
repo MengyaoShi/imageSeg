{
 "cells": [
  {
   "cell_type": "code",
   "execution_count": 1,
   "metadata": {
    "collapsed": true
   },
   "outputs": [],
   "source": [
    "from glob import glob\n",
    "import cv2\n",
    "from utils.probeImage import probeImage"
   ]
  },
  {
   "cell_type": "code",
   "execution_count": 13,
   "metadata": {},
   "outputs": [],
   "source": [
    "img_paths = glob(\"../maskss/*.png\")\n",
    "\n",
    "#probeImage(gray)"
   ]
  },
  {
   "cell_type": "markdown",
   "metadata": {},
   "source": [
    "#check the masks\n",
    "import matplotlib.pyplot as plt\n",
    "import numpy as np\n",
    "%matplotlib inline\n",
    "_ = plt.hist(gray[:,:,0].flatten(), normed=True, bins=30)"
   ]
  },
  {
   "cell_type": "code",
   "execution_count": 14,
   "metadata": {
    "collapsed": true
   },
   "outputs": [],
   "source": [
    "def rle_encoding(x):\n",
    "    dots = np.where(x.T.flatten() == 1)[0]\n",
    "    run_lengths = []\n",
    "    prev = -2\n",
    "    for b in dots:\n",
    "        if (b>prev+1): run_lengths.extend((b + 1, 0))\n",
    "        run_lengths[-1] += 1\n",
    "        prev = b\n",
    "    return run_lengths\n",
    "\n",
    "def label_to_rles(lab_img):\n",
    "    for i in range(1, lab_img.max() + 1):\n",
    "        yield rle_encoding(lab_img == i)\n",
    "        \n",
    "def mask2RLE(mask,img_name):\n",
    "    rle = list(label_to_rles(mask))\n",
    "    new_test_id = [img_name[:-4]] * len(rle)\n",
    "    return (rle,new_test_id)       "
   ]
  },
  {
   "cell_type": "code",
   "execution_count": null,
   "metadata": {
    "collapsed": true
   },
   "outputs": [],
   "source": [
    "    rles = []\n",
    "    new_test_ids = []\n",
    "    for img_path in img_paths:\n",
    "        gray = cv2.imread(img_path)\n",
    "\n",
    "        gray = (gray<255)*1.0\n",
    "        mask = gray[:,:,0]\n",
    "\n",
    "        mask = resize(mask,size,mode='constant', preserve_range=True)\n",
    "        lab_img = label(mask > 0)\n",
    "        rle = list(label_to_rles(lab_img))\n",
    "        rles.extend(rle)\n",
    "        new_test_ids.extend([img_name[:-4]] * len(rle))"
   ]
  }
 ],
 "metadata": {
  "kernelspec": {
   "display_name": "Python 3",
   "language": "python",
   "name": "python3"
  },
  "language_info": {
   "codemirror_mode": {
    "name": "ipython",
    "version": 3
   },
   "file_extension": ".py",
   "mimetype": "text/x-python",
   "name": "python",
   "nbconvert_exporter": "python",
   "pygments_lexer": "ipython3",
   "version": "3.6.3"
  }
 },
 "nbformat": 4,
 "nbformat_minor": 2
}
