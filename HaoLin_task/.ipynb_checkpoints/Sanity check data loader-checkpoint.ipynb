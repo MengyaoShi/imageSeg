{
 "cells": [
  {
   "cell_type": "code",
   "execution_count": 1,
   "metadata": {
    "collapsed": true
   },
   "outputs": [],
   "source": [
    "import torch\n",
    "import torch.nn.functional as F\n",
    "from torch import nn\n",
    "from torch import optim\n",
    "from torch.autograd import Variable\n",
    "\n",
    "from carvana_dataset import CarvanaDataset\n",
    "from h5like_interface import H5LikeFileInterface\n",
    "from torch.utils import data\n",
    "\n",
    "from torchvision import transforms as tsf\n",
    "from loss import *\n",
    "from paths import *\n",
    "from utils.probeImage import probeImage\n",
    "\n",
    "from scipy.misc import toimage\n",
    "\n",
    "from Transform import *"
   ]
  },
  {
   "cell_type": "code",
   "execution_count": 25,
   "metadata": {
    "collapsed": true
   },
   "outputs": [],
   "source": [
    "from skimage import io, transform\n",
    "import random\n",
    "import numpy as np\n",
    "import torch\n",
    "\n",
    "\n",
    "class ScaleCrop(object):\n",
    "    '''\n",
    "    resclae the image and mask to a given size\n",
    "    '''\n",
    "    def __init__(self,scale):\n",
    "        self.scale = scale\n",
    "        \n",
    "    def __call__(self,sample):\n",
    "        image, mask = sample['image'], sample['mask']\n",
    "    \n",
    "        self.output_size = (int(h*self.scale), int(w*self.scale))\n",
    "\n",
    "        image = transform.resize(image,self.output_size)\n",
    "        mask = transform.resize(mask,self.output_size)\n",
    "        return {'image':image,'mask':mask}\n",
    "    \n",
    "class Rotate(object):\n",
    "    '''\n",
    "    resclae the image and mask to a given size\n",
    "    '''\n",
    "        \n",
    "    def __call__(self,sample):\n",
    "        image, mask = sample['image'], sample['mask']\n",
    "\n",
    "        angle = random.uniform(0, 360)\n",
    "        \n",
    "        image = transform.rotate(image,angle)\n",
    "        mask = transform.rotate(mask,angle)\n",
    "        return {'image':image,'mask':mask}\n",
    "    \n",
    "class RandomCrop(object):\n",
    "    def __init__(self, output_size):\n",
    "        self.h, self.w = output_size\n",
    "        self.output_size = output_size\n",
    "        \n",
    "        \n",
    "    def __call__(self,sample):\n",
    "        image, mask = sample['image'], sample['mask']\n",
    "        h, w = image.shape[:2]\n",
    "        if h < self.h or w < self.w:\n",
    "            image = transform.resize(image,self.output_size)\n",
    "            mask = transform.resize(mask,self.output_size)\n",
    "            return {'image':image,'mask':mask}\n",
    "        else:\n",
    "            top = random.randint(0, h-self.h)\n",
    "            left = random.randint(0, w-self.w)\n",
    "            down = min(top+self.h, h)\n",
    "            right = min(left + self.w, w)\n",
    "\n",
    "            image = image[top:down,\n",
    "                      left:right,:]\n",
    "            mask = mask[top:down,\n",
    "                      left:down]\n",
    "            return {'image':image,'mask':mask}\n",
    "        \n",
    "    \n",
    "class ToTensor(object):\n",
    "    def __call__(self,sample):\n",
    "        image, mask = sample['image'], sample['mask']\n",
    "        image = image.astype(np.float32)\n",
    "        mask = mask > 0.7\n",
    "        mask = mask.astype(np.float32)\n",
    "\n",
    "        image = image.transpose((2,0,1))\n",
    "        return {'image':torch.from_numpy(image), 'mask': torch.from_numpy(mask)}"
   ]
  },
  {
   "cell_type": "code",
   "execution_count": 26,
   "metadata": {
    "collapsed": true
   },
   "outputs": [],
   "source": [
    "root = data_path\n",
    "s_t_trans = tsf.Compose([\n",
    "    #Rescale(2),\n",
    "    #Rotate(),\n",
    "    #RandomCrop((224,224)),\n",
    "    ToTensor(),\n",
    "    #tsf.Normalize(mean = [0.5,0.5,0.5],std = [0.5,0.5,0.5])\n",
    "]\n",
    ")\n",
    "s_trans = tsf.Compose([\n",
    "    tsf.ToTensor(),\n",
    "    #tsf.Normalize(mean = [0.5,0.5,0.5],std = [0.5,0.5,0.5])\n",
    "]\n",
    ")\n",
    "\n",
    "ds = CarvanaDataset(root,336,256,s_t_trans,s_trans,image_folder_name=\"train\",test=False)\n",
    "trainloader = torch.utils.data.DataLoader(ds, batch_size=13,\n",
    "                                          shuffle=False, num_workers=1)"
   ]
  },
  {
   "cell_type": "code",
   "execution_count": 27,
   "metadata": {
    "scrolled": true
   },
   "outputs": [
    {
     "name": "stderr",
     "output_type": "stream",
     "text": [
      "/home/wxk/anaconda/envs/TF1.5/lib/python3.6/site-packages/skimage/transform/_warps.py:84: UserWarning: The default mode, 'constant', will be changed to 'reflect' in skimage 0.15.\n",
      "  warn(\"The default mode, 'constant', will be changed to 'reflect' in \"\n"
     ]
    },
    {
     "name": "stdout",
     "output_type": "stream",
     "text": [
      "inputs size torch.Size([13, 3, 336, 256])\n",
      "i 0\n"
     ]
    }
   ],
   "source": [
    "for i, data in enumerate(trainloader, 0):\n",
    "    # get the inputs\n",
    "    imgs = data['image']\n",
    "    masks = data['mask']\n",
    "    print(\"inputs size\",imgs.size())\n",
    "    print(\"i\", i)\n",
    "    if i == 0:\n",
    "       break"
   ]
  },
  {
   "cell_type": "code",
   "execution_count": 28,
   "metadata": {},
   "outputs": [
    {
     "data": {
      "text/plain": [
       "(13, 336, 256, 3)"
      ]
     },
     "execution_count": 28,
     "metadata": {},
     "output_type": "execute_result"
    }
   ],
   "source": [
    "imgs =imgs.numpy()\n",
    "imgs = imgs.transpose((0,2,3,1))\n",
    "imgs.shape"
   ]
  },
  {
   "cell_type": "code",
   "execution_count": 29,
   "metadata": {},
   "outputs": [
    {
     "data": {
      "text/plain": [
       "(13, 336, 256)"
      ]
     },
     "execution_count": 29,
     "metadata": {},
     "output_type": "execute_result"
    }
   ],
   "source": [
    "masks = masks.numpy()\n",
    "masks.shape"
   ]
  },
  {
   "cell_type": "code",
   "execution_count": 32,
   "metadata": {},
   "outputs": [
    {
     "name": "stderr",
     "output_type": "stream",
     "text": [
      "/home/wxk/anaconda/envs/TF1.5/lib/python3.6/site-packages/ipykernel_launcher.py:2: DeprecationWarning: `toimage` is deprecated!\n",
      "`toimage` is deprecated in SciPy 1.0.0, and will be removed in 1.2.0.\n",
      "Use Pillow's ``Image.fromarray`` directly instead.\n",
      "  \n"
     ]
    }
   ],
   "source": [
    "i = 3\n",
    "toimage(imgs[i,:,:,:]).show()"
   ]
  },
  {
   "cell_type": "code",
   "execution_count": 33,
   "metadata": {
    "scrolled": true
   },
   "outputs": [
    {
     "name": "stderr",
     "output_type": "stream",
     "text": [
      "/home/wxk/anaconda/envs/TF1.5/lib/python3.6/site-packages/ipykernel_launcher.py:1: DeprecationWarning: `toimage` is deprecated!\n",
      "`toimage` is deprecated in SciPy 1.0.0, and will be removed in 1.2.0.\n",
      "Use Pillow's ``Image.fromarray`` directly instead.\n",
      "  \"\"\"Entry point for launching an IPython kernel.\n"
     ]
    }
   ],
   "source": [
    "toimage(masks[i,:,:]).show()"
   ]
  },
  {
   "cell_type": "code",
   "execution_count": 13,
   "metadata": {},
   "outputs": [
    {
     "name": "stdout",
     "output_type": "stream",
     "text": [
      "2\n",
      "19\n"
     ]
    }
   ],
   "source": [
    "import random\n",
    "random.seed(9001)\n",
    "def r():\n",
    "    print(random.randint(0,50))\n",
    "    print(random.randint(0,50))\n",
    "\n",
    "r()"
   ]
  },
  {
   "cell_type": "code",
   "execution_count": 24,
   "metadata": {},
   "outputs": [
    {
     "name": "stdout",
     "output_type": "stream",
     "text": [
      "2\n",
      "19\n"
     ]
    }
   ],
   "source": [
    "random.seed(9001)\n",
    "r()"
   ]
  },
  {
   "cell_type": "code",
   "execution_count": null,
   "metadata": {
    "collapsed": true
   },
   "outputs": [],
   "source": []
  }
 ],
 "metadata": {
  "kernelspec": {
   "display_name": "Python 3",
   "language": "python",
   "name": "python3"
  },
  "language_info": {
   "codemirror_mode": {
    "name": "ipython",
    "version": 3
   },
   "file_extension": ".py",
   "mimetype": "text/x-python",
   "name": "python",
   "nbconvert_exporter": "python",
   "pygments_lexer": "ipython3",
   "version": "3.6.3"
  }
 },
 "nbformat": 4,
 "nbformat_minor": 2
}
