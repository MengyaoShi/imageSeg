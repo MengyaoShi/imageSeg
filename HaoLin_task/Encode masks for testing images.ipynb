{
 "cells": [
  {
   "cell_type": "code",
   "execution_count": 9,
   "metadata": {
    "collapsed": true
   },
   "outputs": [],
   "source": [
    "from glob import glob\n",
    "import cv2\n",
    "from utils.probeImage import probeImage\n",
    "import pandas as pd\n",
    "\n",
    "from skimage.morphology import label\n",
    "import numpy as np"
   ]
  },
  {
   "cell_type": "code",
   "execution_count": 10,
   "metadata": {
    "collapsed": true
   },
   "outputs": [],
   "source": [
    "img_paths = glob(\"../maskss/*.png\")\n",
    "img_paths.sort()\n",
    "#probeImage(gray)"
   ]
  },
  {
   "cell_type": "code",
   "execution_count": 19,
   "metadata": {
    "collapsed": true
   },
   "outputs": [],
   "source": [
    "i = 35\n",
    "img_path = img_paths[i]\n",
    "gray = cv2.imread(img_path)"
   ]
  },
  {
   "cell_type": "code",
   "execution_count": 20,
   "metadata": {
    "scrolled": true
   },
   "outputs": [
    {
     "data": {
      "image/png": "[encoded data removed]",
      "text/plain": [
       "<matplotlib.figure.Figure at 0x7f5b18be9588>"
      ]
     },
     "metadata": {},
     "output_type": "display_data"
    }
   ],
   "source": [
    "#check the masks\n",
    "import matplotlib.pyplot as plt\n",
    "import numpy as np\n",
    "%matplotlib inline\n",
    "_ = plt.hist(gray[:,:,0].flatten(), normed=True, bins=30)"
   ]
  },
  {
   "cell_type": "code",
   "execution_count": 11,
   "metadata": {},
   "outputs": [
    {
     "data": {
      "text/plain": [
       "35"
      ]
     },
     "execution_count": 11,
     "metadata": {},
     "output_type": "execute_result"
    }
   ],
   "source": [
    "img_paths.index('../maskss/697a05c6fe4a07c601d46da80885645ad574ea19b47ee795ccff216c9f1f1808.png')"
   ]
  },
  {
   "cell_type": "code",
   "execution_count": 12,
   "metadata": {
    "scrolled": true
   },
   "outputs": [
    {
     "data": {
      "image/png": "[encoded data removed]",
      "text/plain": [
       "<matplotlib.figure.Figure at 0x7f5b5f6246a0>"
      ]
     },
     "metadata": {},
     "output_type": "display_data"
    }
   ],
   "source": [
    "\n",
    "gray = (gray<255)*1\n",
    "mask = gray[:,:,0]\n",
    "img_name = img_path.split(\"/\")[-1]\n",
    "lab_img = label(mask > 0)\n",
    "probeImage(lab_img)"
   ]
  },
  {
   "cell_type": "code",
   "execution_count": 13,
   "metadata": {},
   "outputs": [
    {
     "data": {
      "image/png": "[encoded data removed]",
      "text/plain": [
       "<matplotlib.figure.Figure at 0x7f5b2e8a9fd0>"
      ]
     },
     "metadata": {},
     "output_type": "display_data"
    }
   ],
   "source": [
    "probeImage(gray*1.0)"
   ]
  },
  {
   "cell_type": "code",
   "execution_count": 14,
   "metadata": {
    "collapsed": true
   },
   "outputs": [],
   "source": [
    "def rle_encoding(x):\n",
    "    dots = np.where(x.T.flatten() == 1)[0]\n",
    "    run_lengths = []\n",
    "    prev = -2\n",
    "    for b in dots:\n",
    "        if (b>prev+1): run_lengths.extend((b + 1, 0))\n",
    "        run_lengths[-1] += 1\n",
    "        prev = b\n",
    "    return run_lengths\n",
    "\n",
    "def label_to_rles(lab_img):\n",
    "    for i in range(1, lab_img.max() + 1):\n",
    "        yield rle_encoding(lab_img == i)\n",
    "        \n",
    "def mask2RLE(lab_img,img_name):\n",
    "    rle = list(label_to_rles(lab_img))\n",
    "    new_test_id = [img_name[:-4]] * len(rle)\n",
    "    return (rle,new_test_id)       "
   ]
  },
  {
   "cell_type": "code",
   "execution_count": 21,
   "metadata": {
    "collapsed": true
   },
   "outputs": [],
   "source": [
    "def encode1mask(img_path):\n",
    "    gray = cv2.imread(img_path)\n",
    "    gray = (gray<50)*1\n",
    "    mask = gray[:,:,0]\n",
    "    img_name = img_path.split(\"/\")[-1]\n",
    "    lab_img = label(mask > 0)\n",
    "    rle,new_test_id  = mask2RLE(lab_img,img_name)\n",
    "    return rle,new_test_id"
   ]
  },
  {
   "cell_type": "code",
   "execution_count": 22,
   "metadata": {},
   "outputs": [],
   "source": [
    "rles = []\n",
    "new_test_ids = []\n",
    "for img_path in img_paths:\n",
    "    rle, new_test_id = encode1mask(img_path)\n",
    "    rles.extend(rle)\n",
    "    new_test_ids.extend(new_test_id)"
   ]
  },
  {
   "cell_type": "code",
   "execution_count": 23,
   "metadata": {},
   "outputs": [
    {
     "name": "stdout",
     "output_type": "stream",
     "text": [
      "(2519, 2)\n",
      "submission file generated in  ../submission/fasternn-linknet.csv\n"
     ]
    }
   ],
   "source": [
    "def makesub(rles, new_test_ids,file_path):\n",
    "    sub = pd.DataFrame()\n",
    "    sub['ImageId'] = new_test_ids\n",
    "    sub['EncodedPixels'] = pd.Series(rles).apply(lambda x: ' '.join(str(y) for y in x))\n",
    "    sub.to_csv(file_path, index=False)\n",
    "    print(sub.shape)\n",
    "    print(\"submission file generated in \",file_path)\n",
    "    \n",
    "\n",
    "file_path = '../submission/fasternn-linknet.csv'\n",
    "\n",
    "makesub(rles, new_test_ids,file_path)"
   ]
  },
  {
   "cell_type": "code",
   "execution_count": 35,
   "metadata": {},
   "outputs": [
    {
     "data": {
      "text/plain": [
       "261"
      ]
     },
     "execution_count": 35,
     "metadata": {},
     "output_type": "execute_result"
    }
   ],
   "source": [
    "2650-2389"
   ]
  }
 ],
 "metadata": {
  "kernelspec": {
   "display_name": "Python 3",
   "language": "python",
   "name": "python3"
  },
  "language_info": {
   "codemirror_mode": {
    "name": "ipython",
    "version": 3
   },
   "file_extension": ".py",
   "mimetype": "text/x-python",
   "name": "python",
   "nbconvert_exporter": "python",
   "pygments_lexer": "ipython3",
   "version": "3.6.3"
  }
 },
 "nbformat": 4,
 "nbformat_minor": 2
}
