{
 "cells": [
  {
   "cell_type": "code",
   "execution_count": 1,
   "metadata": {
    "collapsed": true
   },
   "outputs": [],
   "source": [
    "import os\n",
    "import cv2\n",
    "from utils.probeImage import probeImage\n",
    "from PIL import Image,  ImageDraw\n",
    "import numpy as np\n",
    "import pickle\n",
    "import glob"
   ]
  },
  {
   "cell_type": "code",
   "execution_count": 2,
   "metadata": {},
   "outputs": [],
   "source": [
    "'''\n",
    "Notes:\n",
    "   img_paths: a list of 65 elements, one of which is a path for a testing image\n",
    "   masks: a list of list. In a sublist, an element is an h*w array.\n",
    "   allbboxes: a list of list. In a sublist, an element is an array of [x1,y1,x2,y2]. [x1,y1,x2,y2] \n",
    "             describes the loation of the corresponding mask in the sublist of the list, masks.\n",
    " \n",
    "'''\n",
    "\n",
    "img_paths = glob.glob(os.path.join(\"../test_imgs_mask_bbox\",\"test\",\"**png\"))\n",
    "img_paths.sort()\n",
    "masks = pickle.load( open( \"../test_imgs_mask_bbox/masks.p\", \"rb\" ) )\n",
    "allbboxes = pickle.load( open( \"../test_imgs_mask_bbox/bboxes.p\", \"rb\" ) )\n",
    "\n"
   ]
  },
  {
   "cell_type": "code",
   "execution_count": null,
   "metadata": {
    "collapsed": true
   },
   "outputs": [],
   "source": []
  }
 ],
 "metadata": {
  "kernelspec": {
   "display_name": "Python 3",
   "language": "python",
   "name": "python3"
  },
  "language_info": {
   "codemirror_mode": {
    "name": "ipython",
    "version": 3
   },
   "file_extension": ".py",
   "mimetype": "text/x-python",
   "name": "python",
   "nbconvert_exporter": "python",
   "pygments_lexer": "ipython3",
   "version": "3.6.3"
  }
 },
 "nbformat": 4,
 "nbformat_minor": 2
}
